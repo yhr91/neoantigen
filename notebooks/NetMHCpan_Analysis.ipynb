{
 "cells": [
  {
   "cell_type": "markdown",
   "metadata": {},
   "source": [
    "### NetMHCpan_Analysis\n",
    "\n",
    "This notebook produces post processes the output produced from NetMHCpan. The saved files are used for producing figures in other notebooks in this directory"
   ]
  },
  {
   "cell_type": "code",
   "execution_count": 1,
   "metadata": {},
   "outputs": [],
   "source": [
    "import pandas as pd\n",
    "import glob\n",
    "import matplotlib.pyplot as plt\n",
    "import seaborn as sns\n",
    "import numpy as np\n",
    "import tqdm\n",
    "from multiprocessing import Pool\n",
    "\n",
    "%matplotlib inline"
   ]
  },
  {
   "cell_type": "code",
   "execution_count": 166,
   "metadata": {},
   "outputs": [],
   "source": [
    "allele = 'HLA-B35_03'\n",
    "files = glob.glob('/dfs/user/yhr/neopeptide/results/'+allele+'/*')"
   ]
  },
  {
   "cell_type": "code",
   "execution_count": 2,
   "metadata": {},
   "outputs": [],
   "source": [
    "# Read an parse all peptide lines from text\n",
    "\n",
    "def get_peptides(f):\n",
    "    with open(f, \"r+\") as read:\n",
    "            text=read.readlines()\n",
    "\n",
    "    peptide_text = []\n",
    "    for it, line in enumerate(text):\n",
    "        if line[1:4]=='Pos':\n",
    "            k = 2\n",
    "            while text[it+k][0] != '-':\n",
    "                peptide_text.append(text[it+k])\n",
    "                k = k+1\n",
    "    return peptide_text\n",
    "\n",
    "def get_BA(peptide_out):\n",
    "    ba = [x for x in peptide_out.split(' ')if len(x)>0][15]\n",
    "    id_ = [x for x in peptide_out.split(' ')if len(x)>0][10]\n",
    "    return (id_, float(ba))\n",
    "\n",
    "def get_all_BA(peptide_outs):\n",
    "    return [get_BA(p) for p in peptide_outs]"
   ]
  },
  {
   "cell_type": "code",
   "execution_count": 169,
   "metadata": {},
   "outputs": [],
   "source": [
    "# Get all peptide results for a given allele\n",
    "peptide_outs_all = []\n",
    "for f in files:\n",
    "    if f[-2:] != 'sh' or f[-2:] != 'ip':\n",
    "        try:\n",
    "            peptide_outs_all.append(get_peptides(f))\n",
    "        except:\n",
    "            continue"
   ]
  },
  {
   "cell_type": "code",
   "execution_count": 3,
   "metadata": {},
   "outputs": [],
   "source": [
    "def Map(F, x, workers):\n",
    "    \"\"\"\n",
    "    wrapper for imap()\n",
    "    Spawn workers for parallel processing\n",
    "    \n",
    "    \"\"\"\n",
    "    with Pool(workers) as pool:\n",
    "        #ret = pool.map(F, x)\n",
    "        ret = list(tqdm.tqdm(pool.imap(F, x), total=len(x)))\n",
    "    return ret"
   ]
  },
  {
   "cell_type": "code",
   "execution_count": null,
   "metadata": {},
   "outputs": [
    {
     "name": "stderr",
     "output_type": "stream",
     "text": [
      "100%|██████████| 68/68 [06:29<00:00,  5.73s/it]  \n"
     ]
    }
   ],
   "source": [
    "# Read in binding affinity for all output files\n",
    "BAs = Map(get_all_BA, peptide_outs_all, workers=50)\n",
    "BAs_flat = [item for sublist in BAs for item in sublist]"
   ]
  },
  {
   "cell_type": "code",
   "execution_count": null,
   "metadata": {
    "scrolled": true
   },
   "outputs": [],
   "source": [
    "# Save output to file\n",
    "with open('BAs_flat_'+allele+'.txt', 'w') as f:\n",
    "    for it, item in enumerate(BAs_flat):\n",
    "        if it%1000000 == 0:\n",
    "            print(it)\n",
    "        f.write(\"%s\\n\" % str(item))"
   ]
  },
  {
   "cell_type": "code",
   "execution_count": null,
   "metadata": {},
   "outputs": [],
   "source": [
    "plot_df = pd.DataFrame(BAs_flat)"
   ]
  },
  {
   "cell_type": "code",
   "execution_count": null,
   "metadata": {},
   "outputs": [],
   "source": [
    "plot_df.to_pickle('BAs_flat_'+allele+'.pkl')"
   ]
  },
  {
   "cell_type": "markdown",
   "metadata": {},
   "source": [
    "### Read in processed data"
   ]
  },
  {
   "cell_type": "code",
   "execution_count": 4,
   "metadata": {},
   "outputs": [],
   "source": [
    "# Read in file\n",
    "with open('BAs_flat_'+allele+'.txt', 'r') as f:\n",
    "    content = f.readlines()\n",
    "    \n",
    "content = [x.strip() for x in content] "
   ]
  },
  {
   "cell_type": "code",
   "execution_count": 18,
   "metadata": {},
   "outputs": [],
   "source": [
    "data_mat = []\n",
    "for c in content:\n",
    "    data_mat.append([ci.strip('()') for ci in c.split(',')])"
   ]
  },
  {
   "cell_type": "code",
   "execution_count": 19,
   "metadata": {},
   "outputs": [],
   "source": [
    "# Create a dataframe\n",
    "plot_df = pd.DataFrame(data_mat)\n",
    "plot_df[0] = plot_df[0].astype('float')"
   ]
  },
  {
   "cell_type": "code",
   "execution_count": 23,
   "metadata": {},
   "outputs": [],
   "source": [
    "# Save dataframe as pickle\n",
    "plot_df.to_pickle('BAs_flat_'+allele+'.pkl')"
   ]
  }
 ],
 "metadata": {
  "kernelspec": {
   "display_name": "xspecies",
   "language": "python",
   "name": "xspecies"
  },
  "language_info": {
   "codemirror_mode": {
    "name": "ipython",
    "version": 3
   },
   "file_extension": ".py",
   "mimetype": "text/x-python",
   "name": "python",
   "nbconvert_exporter": "python",
   "pygments_lexer": "ipython3",
   "version": "3.7.4"
  }
 },
 "nbformat": 4,
 "nbformat_minor": 2
}
