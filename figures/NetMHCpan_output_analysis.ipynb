{
 "cells": [
  {
   "cell_type": "code",
   "execution_count": 1,
   "metadata": {},
   "outputs": [],
   "source": [
    "import pandas as pd\n",
    "import glob\n",
    "import matplotlib.pyplot as plt\n",
    "import seaborn as sns\n",
    "import numpy as np\n",
    "import tqdm\n",
    "from multiprocessing import Pool\n",
    "\n",
    "%matplotlib inline"
   ]
  },
  {
   "cell_type": "code",
   "execution_count": 166,
   "metadata": {},
   "outputs": [],
   "source": [
    "allele = 'HLA-B35_03'\n",
    "files = glob.glob('/dfs/user/yhr/neopeptide/results/'+allele+'/*')"
   ]
  },
  {
   "cell_type": "code",
   "execution_count": 2,
   "metadata": {},
   "outputs": [],
   "source": [
    "# Read an parse all peptide lines from text\n",
    "\n",
    "def get_peptides(f):\n",
    "    with open(f, \"r+\") as read:\n",
    "            text=read.readlines()\n",
    "\n",
    "    peptide_text = []\n",
    "    for it, line in enumerate(text):\n",
    "        if line[1:4]=='Pos':\n",
    "            k = 2\n",
    "            while text[it+k][0] != '-':\n",
    "                peptide_text.append(text[it+k])\n",
    "                k = k+1\n",
    "    return peptide_text\n",
    "\n",
    "def get_BA(peptide_out):\n",
    "    ba = [x for x in peptide_out.split(' ')if len(x)>0][15]\n",
    "    id_ = [x for x in peptide_out.split(' ')if len(x)>0][10]\n",
    "    return (id_, float(ba))\n",
    "\n",
    "def get_all_BA(peptide_outs):\n",
    "    return [get_BA(p) for p in peptide_outs]"
   ]
  },
  {
   "cell_type": "code",
   "execution_count": 169,
   "metadata": {},
   "outputs": [],
   "source": [
    "# Get all peptide results for a given allele\n",
    "peptide_outs_all = []\n",
    "for f in files:\n",
    "    if f[-2:] != 'sh' or f[-2:] != 'ip':\n",
    "        try:\n",
    "            peptide_outs_all.append(get_peptides(f))\n",
    "        except:\n",
    "            continue"
   ]
  },
  {
   "cell_type": "code",
   "execution_count": 3,
   "metadata": {},
   "outputs": [],
   "source": [
    "def Map(F, x, workers):\n",
    "    \"\"\"\n",
    "    wrapper for imap()\n",
    "    Spawn workers for parallel processing\n",
    "    \n",
    "    \"\"\"\n",
    "    with Pool(workers) as pool:\n",
    "        #ret = pool.map(F, x)\n",
    "        ret = list(tqdm.tqdm(pool.imap(F, x), total=len(x)))\n",
    "    return ret"
   ]
  },
  {
   "cell_type": "code",
   "execution_count": null,
   "metadata": {},
   "outputs": [
    {
     "name": "stderr",
     "output_type": "stream",
     "text": [
      "100%|██████████| 68/68 [06:29<00:00,  5.73s/it]  \n"
     ]
    }
   ],
   "source": [
    "# Read in binding affinity for all output files\n",
    "BAs = Map(get_all_BA, peptide_outs_all, workers=50)\n",
    "BAs_flat = [item for sublist in BAs for item in sublist]"
   ]
  },
  {
   "cell_type": "code",
   "execution_count": null,
   "metadata": {
    "scrolled": true
   },
   "outputs": [],
   "source": [
    "# Save output to file\n",
    "with open('BAs_flat_'+allele+'.txt', 'w') as f:\n",
    "    for it, item in enumerate(BAs_flat):\n",
    "        if it%1000000 == 0:\n",
    "            print(it)\n",
    "        f.write(\"%s\\n\" % str(item))"
   ]
  },
  {
   "cell_type": "code",
   "execution_count": null,
   "metadata": {},
   "outputs": [],
   "source": [
    "plot_df = pd.DataFrame(BAs_flat)"
   ]
  },
  {
   "cell_type": "code",
   "execution_count": null,
   "metadata": {},
   "outputs": [],
   "source": [
    "plot_df.to_pickle('BAs_flat_'+allele+'.pkl')"
   ]
  },
  {
   "cell_type": "markdown",
   "metadata": {},
   "source": [
    "### Read in processed data"
   ]
  },
  {
   "cell_type": "code",
   "execution_count": 4,
   "metadata": {},
   "outputs": [],
   "source": [
    "# Read in file\n",
    "with open('BAs_flat_'+allele+'.txt', 'r') as f:\n",
    "    content = f.readlines()\n",
    "    \n",
    "# you may also want to remove whitespace characters like `\\n` at the end of each line\n",
    "content = [x.strip() for x in content] "
   ]
  },
  {
   "cell_type": "code",
   "execution_count": 18,
   "metadata": {},
   "outputs": [],
   "source": [
    "data_mat = []\n",
    "for c in content:\n",
    "    data_mat.append([ci.strip('()') for ci in c.split(',')])"
   ]
  },
  {
   "cell_type": "code",
   "execution_count": 19,
   "metadata": {},
   "outputs": [],
   "source": [
    "# Create a dataframe\n",
    "plot_df = pd.DataFrame(data_mat)\n",
    "plot_df[0] = plot_df[0].astype('float')"
   ]
  },
  {
   "cell_type": "code",
   "execution_count": 23,
   "metadata": {},
   "outputs": [],
   "source": [
    "# Save dataframe as pickle\n",
    "plot_df.to_pickle('BAs_flat_'+allele+'.pkl')"
   ]
  },
  {
   "cell_type": "markdown",
   "metadata": {},
   "source": [
    "### Transcript data"
   ]
  },
  {
   "cell_type": "code",
   "execution_count": 5,
   "metadata": {},
   "outputs": [],
   "source": [
    "import pickle\n",
    "\n",
    "ID_dict = np.load('/lfs/rambo/0/yhr/neopeptide/tim_data/ID_dict.npy', allow_pickle=True)\n",
    "ID_dict = ID_dict.item()\n",
    "\n",
    "# Link gene names to tpm\n",
    "# RNA seq data\n",
    "RNAseq = pd.read_csv('./fpkm_tpm.csv')\n",
    "\n",
    "# tpm values\n",
    "tpm_dict = RNAseq.set_index('geneID').to_dict()['TA1_wt1']"
   ]
  },
  {
   "cell_type": "code",
   "execution_count": 7,
   "metadata": {},
   "outputs": [
    {
     "data": {
      "text/plain": [
       "2301322"
      ]
     },
     "execution_count": 7,
     "metadata": {},
     "output_type": "execute_result"
    }
   ],
   "source": [
    "len(ID_dict.keys())"
   ]
  },
  {
   "cell_type": "code",
   "execution_count": 176,
   "metadata": {},
   "outputs": [],
   "source": [
    "import matplotlib\n",
    "from pylab import figure, cm\n",
    "from matplotlib.colors import LogNorm\n",
    "import matplotlib.ticker as ticker\n",
    "\n",
    "font = {'size'   : 16}\n",
    "matplotlib.rc('font', **font)\n",
    "\n",
    "def xid_to_geneid(k):\n",
    "    k = ':'.join(k.split('_'))\n",
    "    v = ID_dict[k]\n",
    "    return v.split('|')[0].split(':')[1]\n",
    "\n",
    "def xid_to_tpm(v):\n",
    "    try:\n",
    "        geneid = xid_to_geneid(v)\n",
    "        return tpm_dict[geneid]\n",
    "    except:\n",
    "        return 0\n",
    "    \n",
    "def fmt(x, pos):\n",
    "    a, b = '{:.2e}'.format(x).split('e')\n",
    "    b = int(b)\n",
    "    return r'$10^{{{}}}$'.format(b)\n",
    "\n",
    "def get_num(a,b):\n",
    "    return a-b+a\n",
    "\n",
    "def get_heatmap(plot_df):\n",
    "    yedges = [0, 2, 20, 80, 120, 380, 620, 1380, 2000, 4000, 6000, 10000]\n",
    "    xedges = [2, 18, 80, 120, 380, 620, 1000, 10000, 20000, 30000, 40000, 50000]\n",
    "    H, xedges, yedges = np.histogram2d(plot_df[1].values, plot_df['tpm'].values, bins=(xedges, yedges))      \n",
    "\n",
    "    f = figure(figsize=(10,10))\n",
    "\n",
    "    xticks = np.convolve(xedges, np.ones(2)/2, mode='valid').astype('int')\n",
    "    yticks = np.convolve(yedges, np.ones(2)/2, mode='valid').astype('int')\n",
    "    ax = f.add_axes([0.17, 0.02, 0.72, 0.79])\n",
    "    axcolor = f.add_axes([0.90, 0.02, 0.03, 0.79])\n",
    "    #ax=plt.gca()\n",
    "\n",
    "    ax.set_xlabel('RNA (tpm)')\n",
    "    ax.set_xticks(range(len(yticks)))\n",
    "    ax.set_yticks(range(len(xticks)))\n",
    "    ax.set_yticklabels(xticks)\n",
    "    ax.set_xticklabels(yticks)\n",
    "    ax.set_ylabel('Binding affinity (nM)')\n",
    "\n",
    "    im = ax.matshow(H, norm=LogNorm(vmin=1e2, vmax=1e8), cmap='inferno')\n",
    "    #f.colorbar(im, cax=axcolor,  format='$%.0e$')\n",
    "    f.colorbar(im, cax=axcolor,  format=ticker.FuncFormatter(fmt))\n",
    "\n",
    "    ax.set_title(allele)\n",
    "    f.show()\n",
    "    \n",
    "    return H"
   ]
  },
  {
   "cell_type": "code",
   "execution_count": 201,
   "metadata": {},
   "outputs": [],
   "source": [
    "# Set up plotting df\n",
    "\n",
    "plot_df = plot_df.rename(columns = {0:'ID'})\n",
    "plot_df['tpm'] = plot_df['ID'].apply(xid_to_tpm)\n",
    "plot_df = plot_df.fillna(0)"
   ]
  },
  {
   "cell_type": "code",
   "execution_count": 233,
   "metadata": {},
   "outputs": [],
   "source": [
    "yedges = [0, 50, 100, 250, 500, 1000, 5000]\n",
    "xedges = [1, 10, 100, 1000, 10000, 100000]\n",
    "\n",
    "yedges = [0, 2, 20, 80, 120, 380, 620, 1380, 2000, 4000, 6000, 10000]\n",
    "xedges = [2, 18, 80, 120, 380, 620, 1000, 10000, 20000, 30000, 40000, 50000]\n",
    "H, xedges, yedges = np.histogram2d(plot_df[1].values, plot_df['tpm'].values, bins=(xedges, yedges))"
   ]
  },
  {
   "cell_type": "code",
   "execution_count": 238,
   "metadata": {},
   "outputs": [
    {
     "data": {
      "image/png": "[encoded data removed]",
      "text/plain": [
       "<Figure size 720x720 with 2 Axes>"
      ]
     },
     "metadata": {
      "needs_background": "light"
     },
     "output_type": "display_data"
    }
   ],
   "source": [
    "H = get_heatmap(plot_df)"
   ]
  },
  {
   "cell_type": "code",
   "execution_count": 248,
   "metadata": {},
   "outputs": [],
   "source": [
    "np.save('H_'+allele, H)"
   ]
  },
  {
   "cell_type": "markdown",
   "metadata": {},
   "source": [
    "### Make heatmap"
   ]
  },
  {
   "cell_type": "code",
   "execution_count": 58,
   "metadata": {},
   "outputs": [
    {
     "data": {
      "text/plain": [
       "Text(0.5, 1.0, 'Allele:HLA-A03_01')"
      ]
     },
     "execution_count": 58,
     "metadata": {},
     "output_type": "execute_result"
    },
    {
     "data": {
      "image/png": "[encoded data removed]",
      "text/plain": [
       "<Figure size 432x288 with 1 Axes>"
      ]
     },
     "metadata": {
      "needs_background": "light"
     },
     "output_type": "display_data"
    }
   ],
   "source": [
    "plt.bar(['<'+str(i) for i in heatmap[1][1:]], heatmap[0])\n",
    "plt.xlabel('Binding affinity')\n",
    "plt.ylabel('Number of peptides')\n",
    "plt.yscale('log')\n",
    "plt.title('Allele:'+allele)"
   ]
  },
  {
   "cell_type": "code",
   "execution_count": 15,
   "metadata": {},
   "outputs": [
    {
     "data": {
      "image/png": "[encoded data removed]",
      "text/plain": [
       "<Figure size 432x288 with 1 Axes>"
      ]
     },
     "metadata": {
      "needs_background": "light"
     },
     "output_type": "display_data"
    }
   ],
   "source": [
    "# Plot distirubtion of binding affinities\n",
    "_ = sns.histplot(BAs, bins = [10**i for i in range(6)])\n",
    "plt.xscale('log')\n",
    "plt.yscale('log')"
   ]
  }
 ],
 "metadata": {
  "kernelspec": {
   "display_name": "xspecies",
   "language": "python",
   "name": "xspecies"
  },
  "language_info": {
   "codemirror_mode": {
    "name": "ipython",
    "version": 3
   },
   "file_extension": ".py",
   "mimetype": "text/x-python",
   "name": "python",
   "nbconvert_exporter": "python",
   "pygments_lexer": "ipython3",
   "version": "3.7.4"
  }
 },
 "nbformat": 4,
 "nbformat_minor": 2
}
